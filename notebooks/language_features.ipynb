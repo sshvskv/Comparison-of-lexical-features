{
 "cells": [
  {
   "cell_type": "code",
   "execution_count": 1,
   "metadata": {},
   "outputs": [],
   "source": [
    "from linguaf import descriptive_statistics as ds\n",
    "from linguaf import syntactical_complexity as sc\n",
    "from linguaf import lexical_diversity as ld\n",
    "from linguaf import readability as r\n",
    "\n",
    "import pandas as pd\n",
    "from tqdm.notebook import tqdm"
   ]
  },
  {
   "cell_type": "code",
   "execution_count": 2,
   "metadata": {},
   "outputs": [],
   "source": [
    "human = pd.read_csv(\"../data/covid-rus-dataset - human.csv\")\n",
    "human.message_date = pd.to_datetime(human.message_date)\n",
    "\n",
    "chatbot = pd.read_csv(\"../data/covid-rus-dataset - chatbot.csv\")\n",
    "chatbot.date = pd.to_datetime(chatbot.date)\n",
    "\n",
    "human = human[(~human.question.isna()) & (human.question.str.len() > 2)]\n",
    "chatbot = chatbot[(~chatbot.question.isna()) & (chatbot.question.str.len() > 2)]\n",
    "\n",
    "human.question = human.question.astype(str)\n",
    "chatbot.question = chatbot.question.astype(str)"
   ]
  },
  {
   "cell_type": "code",
   "execution_count": 3,
   "metadata": {},
   "outputs": [
    {
     "data": {
      "text/html": [
       "<div>\n",
       "<style scoped>\n",
       "    .dataframe tbody tr th:only-of-type {\n",
       "        vertical-align: middle;\n",
       "    }\n",
       "\n",
       "    .dataframe tbody tr th {\n",
       "        vertical-align: top;\n",
       "    }\n",
       "\n",
       "    .dataframe thead th {\n",
       "        text-align: right;\n",
       "    }\n",
       "</style>\n",
       "<table border=\"1\" class=\"dataframe\">\n",
       "  <thead>\n",
       "    <tr style=\"text-align: right;\">\n",
       "      <th></th>\n",
       "      <th>chat_id</th>\n",
       "      <th>user_id</th>\n",
       "      <th>message_date</th>\n",
       "      <th>first_name</th>\n",
       "      <th>second_name</th>\n",
       "      <th>nickname</th>\n",
       "      <th>lang</th>\n",
       "      <th>question</th>\n",
       "      <th>answer</th>\n",
       "      <th>Unnamed: 9</th>\n",
       "    </tr>\n",
       "  </thead>\n",
       "  <tbody>\n",
       "    <tr>\n",
       "      <th>0</th>\n",
       "      <td>1.0</td>\n",
       "      <td>1.0</td>\n",
       "      <td>2021-03-16 00:00:00</td>\n",
       "      <td>Н</td>\n",
       "      <td>К</td>\n",
       "      <td>1.0</td>\n",
       "      <td>ru</td>\n",
       "      <td>Привет!</td>\n",
       "      <td>Доброго времени суток! Отправьте мне вопрос в ...</td>\n",
       "      <td>NaN</td>\n",
       "    </tr>\n",
       "    <tr>\n",
       "      <th>1</th>\n",
       "      <td>1.0</td>\n",
       "      <td>1.0</td>\n",
       "      <td>2021-03-16 20:18:00</td>\n",
       "      <td>Н</td>\n",
       "      <td>К</td>\n",
       "      <td>1.0</td>\n",
       "      <td>ru</td>\n",
       "      <td>Какие основные симптомы у вируса?</td>\n",
       "      <td>К наиболее распространенным симптомам COVID-19...</td>\n",
       "      <td>NaN</td>\n",
       "    </tr>\n",
       "    <tr>\n",
       "      <th>2</th>\n",
       "      <td>1.0</td>\n",
       "      <td>1.0</td>\n",
       "      <td>2021-03-16 20:20:00</td>\n",
       "      <td>Н</td>\n",
       "      <td>К</td>\n",
       "      <td>1.0</td>\n",
       "      <td>ru</td>\n",
       "      <td>Можно ли переболеть и не понять что болел?</td>\n",
       "      <td>Теоретически человек может заболеть COVID-19 в...</td>\n",
       "      <td>NaN</td>\n",
       "    </tr>\n",
       "    <tr>\n",
       "      <th>3</th>\n",
       "      <td>1.0</td>\n",
       "      <td>1.0</td>\n",
       "      <td>2021-03-16 20:22:00</td>\n",
       "      <td>Н</td>\n",
       "      <td>К</td>\n",
       "      <td>1.0</td>\n",
       "      <td>ru</td>\n",
       "      <td>Куда обращаться если вызвал врача, а он не при...</td>\n",
       "      <td>Если есть подозрения на COVID-19, необходимо п...</td>\n",
       "      <td>NaN</td>\n",
       "    </tr>\n",
       "    <tr>\n",
       "      <th>4</th>\n",
       "      <td>1.0</td>\n",
       "      <td>1.0</td>\n",
       "      <td>2021-03-16 20:23:00</td>\n",
       "      <td>Н</td>\n",
       "      <td>К</td>\n",
       "      <td>1.0</td>\n",
       "      <td>ru</td>\n",
       "      <td>Какой срок выздоровления?</td>\n",
       "      <td>Основная фаза COVID-19 в легкой форме протекае...</td>\n",
       "      <td>NaN</td>\n",
       "    </tr>\n",
       "  </tbody>\n",
       "</table>\n",
       "</div>"
      ],
      "text/plain": [
       "   chat_id  user_id        message_date first_name second_name  nickname lang  \\\n",
       "0      1.0      1.0 2021-03-16 00:00:00          Н           К       1.0   ru   \n",
       "1      1.0      1.0 2021-03-16 20:18:00          Н           К       1.0   ru   \n",
       "2      1.0      1.0 2021-03-16 20:20:00          Н           К       1.0   ru   \n",
       "3      1.0      1.0 2021-03-16 20:22:00          Н           К       1.0   ru   \n",
       "4      1.0      1.0 2021-03-16 20:23:00          Н           К       1.0   ru   \n",
       "\n",
       "                                            question  \\\n",
       "0                                            Привет!   \n",
       "1                  Какие основные симптомы у вируса?   \n",
       "2         Можно ли переболеть и не понять что болел?   \n",
       "3  Куда обращаться если вызвал врача, а он не при...   \n",
       "4                          Какой срок выздоровления?   \n",
       "\n",
       "                                              answer Unnamed: 9  \n",
       "0  Доброго времени суток! Отправьте мне вопрос в ...        NaN  \n",
       "1  К наиболее распространенным симптомам COVID-19...        NaN  \n",
       "2  Теоретически человек может заболеть COVID-19 в...        NaN  \n",
       "3  Если есть подозрения на COVID-19, необходимо п...        NaN  \n",
       "4  Основная фаза COVID-19 в легкой форме протекае...        NaN  "
      ]
     },
     "execution_count": 3,
     "metadata": {},
     "output_type": "execute_result"
    }
   ],
   "source": [
    "human.head()"
   ]
  },
  {
   "cell_type": "code",
   "execution_count": 4,
   "metadata": {},
   "outputs": [
    {
     "data": {
      "text/html": [
       "<div>\n",
       "<style scoped>\n",
       "    .dataframe tbody tr th:only-of-type {\n",
       "        vertical-align: middle;\n",
       "    }\n",
       "\n",
       "    .dataframe tbody tr th {\n",
       "        vertical-align: top;\n",
       "    }\n",
       "\n",
       "    .dataframe thead th {\n",
       "        text-align: right;\n",
       "    }\n",
       "</style>\n",
       "<table border=\"1\" class=\"dataframe\">\n",
       "  <thead>\n",
       "    <tr style=\"text-align: right;\">\n",
       "      <th></th>\n",
       "      <th>chat_id</th>\n",
       "      <th>user_id</th>\n",
       "      <th>date</th>\n",
       "      <th>name</th>\n",
       "      <th>surname</th>\n",
       "      <th>nickname</th>\n",
       "      <th>language</th>\n",
       "      <th>question</th>\n",
       "      <th>answer</th>\n",
       "    </tr>\n",
       "  </thead>\n",
       "  <tbody>\n",
       "    <tr>\n",
       "      <th>0</th>\n",
       "      <td>1001052349</td>\n",
       "      <td>1001052349</td>\n",
       "      <td>2021-03-19 15:24:55+00:00</td>\n",
       "      <td>Cro</td>\n",
       "      <td>Vin</td>\n",
       "      <td>Crovine</td>\n",
       "      <td>ru</td>\n",
       "      <td>Помогает маска?</td>\n",
       "      <td>Использование одноразовой медицинской маски сн...</td>\n",
       "    </tr>\n",
       "    <tr>\n",
       "      <th>1</th>\n",
       "      <td>1001052349</td>\n",
       "      <td>1001052349</td>\n",
       "      <td>2021-03-19 15:25:20+00:00</td>\n",
       "      <td>Cro</td>\n",
       "      <td>Vin</td>\n",
       "      <td>Crovine</td>\n",
       "      <td>ru</td>\n",
       "      <td>Безопасна ли вакцина?</td>\n",
       "      <td>В вакцине содержится часть вируса - антиген, о...</td>\n",
       "    </tr>\n",
       "    <tr>\n",
       "      <th>2</th>\n",
       "      <td>1001052349</td>\n",
       "      <td>1001052349</td>\n",
       "      <td>2021-04-14 15:31:44+00:00</td>\n",
       "      <td>Cro</td>\n",
       "      <td>Vin</td>\n",
       "      <td>Crovine</td>\n",
       "      <td>ru</td>\n",
       "      <td>Какие вакцины используются сегодня?</td>\n",
       "      <td>Эксперты ВОЗ говорили, что будут считать успеш...</td>\n",
       "    </tr>\n",
       "    <tr>\n",
       "      <th>3</th>\n",
       "      <td>1001052349</td>\n",
       "      <td>1001052349</td>\n",
       "      <td>2021-04-14 15:32:09+00:00</td>\n",
       "      <td>Cro</td>\n",
       "      <td>Vin</td>\n",
       "      <td>Crovine</td>\n",
       "      <td>ru</td>\n",
       "      <td>Перечень вакцин?</td>\n",
       "      <td>Эксперты ВОЗ говорили, что будут считать успеш...</td>\n",
       "    </tr>\n",
       "    <tr>\n",
       "      <th>4</th>\n",
       "      <td>1001052349</td>\n",
       "      <td>1001052349</td>\n",
       "      <td>2021-04-14 15:33:05+00:00</td>\n",
       "      <td>Cro</td>\n",
       "      <td>Vin</td>\n",
       "      <td>Crovine</td>\n",
       "      <td>ru</td>\n",
       "      <td>Если маску не менять это опасно?</td>\n",
       "      <td>Не совсем понимаю, о чём ты.</td>\n",
       "    </tr>\n",
       "  </tbody>\n",
       "</table>\n",
       "</div>"
      ],
      "text/plain": [
       "      chat_id     user_id                      date name surname nickname  \\\n",
       "0  1001052349  1001052349 2021-03-19 15:24:55+00:00  Cro     Vin  Crovine   \n",
       "1  1001052349  1001052349 2021-03-19 15:25:20+00:00  Cro     Vin  Crovine   \n",
       "2  1001052349  1001052349 2021-04-14 15:31:44+00:00  Cro     Vin  Crovine   \n",
       "3  1001052349  1001052349 2021-04-14 15:32:09+00:00  Cro     Vin  Crovine   \n",
       "4  1001052349  1001052349 2021-04-14 15:33:05+00:00  Cro     Vin  Crovine   \n",
       "\n",
       "  language                             question  \\\n",
       "0       ru                      Помогает маска?   \n",
       "1       ru                Безопасна ли вакцина?   \n",
       "2       ru  Какие вакцины используются сегодня?   \n",
       "3       ru                     Перечень вакцин?   \n",
       "4       ru     Если маску не менять это опасно?   \n",
       "\n",
       "                                              answer  \n",
       "0  Использование одноразовой медицинской маски сн...  \n",
       "1  В вакцине содержится часть вируса - антиген, о...  \n",
       "2  Эксперты ВОЗ говорили, что будут считать успеш...  \n",
       "3  Эксперты ВОЗ говорили, что будут считать успеш...  \n",
       "4                       Не совсем понимаю, о чём ты.  "
      ]
     },
     "execution_count": 4,
     "metadata": {},
     "output_type": "execute_result"
    }
   ],
   "source": [
    "chatbot.head()"
   ]
  },
  {
   "cell_type": "code",
   "execution_count": 5,
   "metadata": {},
   "outputs": [
    {
     "data": {
      "text/plain": [
       "(35, 68)"
      ]
     },
     "execution_count": 5,
     "metadata": {},
     "output_type": "execute_result"
    }
   ],
   "source": [
    "human.user_id.nunique(), chatbot.user_id.nunique()"
   ]
  },
  {
   "cell_type": "code",
   "execution_count": 6,
   "metadata": {},
   "outputs": [
    {
     "data": {
      "text/plain": [
       "(35, 68)"
      ]
     },
     "execution_count": 6,
     "metadata": {},
     "output_type": "execute_result"
    }
   ],
   "source": [
    "human.chat_id.nunique(), chatbot.chat_id.nunique()"
   ]
  },
  {
   "cell_type": "code",
   "execution_count": 7,
   "metadata": {},
   "outputs": [
    {
     "data": {
      "text/plain": [
       "(Timestamp('2021-03-16 00:00:00'),\n",
       " Timestamp('2021-06-29 18:59:00'),\n",
       " Timestamp('2021-03-17 13:57:01+0000', tz='UTC'),\n",
       " Timestamp('2021-07-29 14:30:19+0000', tz='UTC'))"
      ]
     },
     "execution_count": 7,
     "metadata": {},
     "output_type": "execute_result"
    }
   ],
   "source": [
    "human.message_date.min(), human.message_date.max(), chatbot.date.min(), chatbot.date.max()"
   ]
  },
  {
   "cell_type": "code",
   "execution_count": 7,
   "metadata": {},
   "outputs": [
    {
     "data": {
      "text/plain": [
       "9.428571428571429"
      ]
     },
     "execution_count": 7,
     "metadata": {},
     "output_type": "execute_result"
    }
   ],
   "source": [
    "human.groupby(['user_id'])['question'].agg(['count'])['count'].mean()"
   ]
  },
  {
   "cell_type": "code",
   "execution_count": 8,
   "metadata": {},
   "outputs": [
    {
     "data": {
      "text/plain": [
       "5.264705882352941"
      ]
     },
     "execution_count": 8,
     "metadata": {},
     "output_type": "execute_result"
    }
   ],
   "source": [
    "chatbot.groupby(['user_id'])['question'].agg(['count'])['count'].mean()"
   ]
  },
  {
   "cell_type": "markdown",
   "metadata": {},
   "source": [
    "## Descriptive statistics"
   ]
  },
  {
   "cell_type": "code",
   "execution_count": 9,
   "metadata": {},
   "outputs": [
    {
     "data": {
      "text/plain": [
       "(13145, 7017)"
      ]
     },
     "execution_count": 9,
     "metadata": {},
     "output_type": "execute_result"
    }
   ],
   "source": [
    "ds.char_count(human.question.values.tolist()), ds.char_count(chatbot.question.values.tolist())"
   ]
  },
  {
   "cell_type": "code",
   "execution_count": 10,
   "metadata": {},
   "outputs": [
    {
     "data": {
      "text/plain": [
       "(12700, 6764)"
      ]
     },
     "execution_count": 10,
     "metadata": {},
     "output_type": "execute_result"
    }
   ],
   "source": [
    "ds.letter_count(human.question.values.tolist()), ds.letter_count(chatbot.question.values.tolist())"
   ]
  },
  {
   "cell_type": "code",
   "execution_count": 11,
   "metadata": {},
   "outputs": [
    {
     "data": {
      "text/plain": [
       "(18, 35)"
      ]
     },
     "execution_count": 11,
     "metadata": {},
     "output_type": "execute_result"
    }
   ],
   "source": [
    "ds.digit_count(human.question.values.tolist()), ds.digit_count(chatbot.question.values.tolist())"
   ]
  },
  {
   "cell_type": "code",
   "execution_count": 12,
   "metadata": {},
   "outputs": [
    {
     "data": {
      "text/plain": [
       "(427, 218)"
      ]
     },
     "execution_count": 12,
     "metadata": {},
     "output_type": "execute_result"
    }
   ],
   "source": [
    "ds.punctuation_count(human.question.values.tolist()), ds.punctuation_count(chatbot.question.values.tolist())"
   ]
  },
  {
   "cell_type": "code",
   "execution_count": 13,
   "metadata": {},
   "outputs": [
    {
     "data": {
      "text/plain": [
       "(356, 369)"
      ]
     },
     "execution_count": 13,
     "metadata": {},
     "output_type": "execute_result"
    }
   ],
   "source": [
    "ds.sentence_count(human.question.values.tolist()), ds.sentence_count(chatbot.question.values.tolist())"
   ]
  },
  {
   "cell_type": "code",
   "execution_count": 14,
   "metadata": {},
   "outputs": [
    {
     "data": {
      "text/plain": [
       "(4259, 2193)"
      ]
     },
     "execution_count": 14,
     "metadata": {},
     "output_type": "execute_result"
    }
   ],
   "source": [
    "ds.syllable_count(human.question.values.tolist(), lang='ru'), ds.syllable_count(chatbot.question.values.tolist(), lang='ru')"
   ]
  },
  {
   "cell_type": "code",
   "execution_count": 15,
   "metadata": {},
   "outputs": [],
   "source": [
    "hum_avg_wrd_per_sentence = list()\n",
    "hum_avg_sent_len = list()\n",
    "hum_avg_word_len = list()\n",
    "hum_avg_syl_per_wrd = list()\n",
    "\n",
    "bot_avg_wrd_per_sentence = list()\n",
    "bot_avg_sent_len = list()\n",
    "bot_avg_word_len = list()\n",
    "bot_avg_syl_per_wrd = list()"
   ]
  },
  {
   "cell_type": "code",
   "execution_count": 16,
   "metadata": {},
   "outputs": [],
   "source": [
    "for q in human.question.values.tolist():\n",
    "    hum_avg_wrd_per_sentence.append(ds.avg_words_per_sentence([q], lang='ru'))\n",
    "    hum_avg_sent_len.append(ds.avg_sentence_length([q]))\n",
    "    hum_avg_word_len.append(ds.avg_word_length([q], lang='ru'))\n",
    "    hum_avg_syl_per_wrd.append(ds.avg_syllable_per_word([q], lang='ru'))\n",
    "    \n",
    "for q in chatbot.question.values.tolist():\n",
    "    bot_avg_wrd_per_sentence.append(ds.avg_words_per_sentence([q], lang='ru'))\n",
    "    bot_avg_sent_len.append(ds.avg_sentence_length([q]))\n",
    "    bot_avg_word_len.append(ds.avg_word_length([q], lang='ru'))\n",
    "    bot_avg_syl_per_wrd.append(ds.avg_syllable_per_word([q], lang='ru'))"
   ]
  },
  {
   "cell_type": "code",
   "execution_count": 17,
   "metadata": {},
   "outputs": [],
   "source": [
    "ds_human_df = pd.DataFrame.from_dict({\n",
    "    'avg_words_per_sentence': hum_avg_wrd_per_sentence,\n",
    "    'avg_sentence_len': hum_avg_sent_len,\n",
    "    'avg_word_len': hum_avg_word_len,\n",
    "    'avg_syllable_per_word': hum_avg_syl_per_wrd\n",
    "})\n",
    "\n",
    "ds_chatbot_df = pd.DataFrame.from_dict({\n",
    "    'avg_words_per_sentence': bot_avg_wrd_per_sentence,\n",
    "    'avg_sentence_len': bot_avg_sent_len,\n",
    "    'avg_word_len': bot_avg_word_len,\n",
    "    'avg_syllable_per_word': bot_avg_syl_per_wrd\n",
    "})"
   ]
  },
  {
   "cell_type": "code",
   "execution_count": 18,
   "metadata": {},
   "outputs": [],
   "source": [
    "ds_human_df.to_csv(\"../data/ds_human.csv\", sep=',', index=False)\n",
    "ds_chatbot_df.to_csv(\"../data/ds_bot.csv\", sep=',', index=False)"
   ]
  },
  {
   "cell_type": "markdown",
   "metadata": {},
   "source": [
    "## Syntactical Complexity"
   ]
  },
  {
   "cell_type": "code",
   "execution_count": 19,
   "metadata": {},
   "outputs": [],
   "source": [
    "hum_mdd, bot_mdd = list(), list()"
   ]
  },
  {
   "cell_type": "code",
   "execution_count": 20,
   "metadata": {},
   "outputs": [
    {
     "data": {
      "application/vnd.jupyter.widget-view+json": {
       "model_id": "30ecfbd926ee4b31bb953c6120df5a13",
       "version_major": 2,
       "version_minor": 0
      },
      "text/plain": [
       "  0%|          | 0/330 [00:00<?, ?it/s]"
      ]
     },
     "metadata": {},
     "output_type": "display_data"
    },
    {
     "data": {
      "application/vnd.jupyter.widget-view+json": {
       "model_id": "4387b7acf93049e9adcb2e1d427bbbc4",
       "version_major": 2,
       "version_minor": 0
      },
      "text/plain": [
       "  0%|          | 0/358 [00:00<?, ?it/s]"
      ]
     },
     "metadata": {},
     "output_type": "display_data"
    }
   ],
   "source": [
    "for q in tqdm(human.question.values.tolist()):\n",
    "    hum_mdd.append(sc.mean_dependency_distance([q], lang='ru'))\n",
    "    \n",
    "for q in tqdm(chatbot.question.values.tolist()):\n",
    "    bot_mdd.append(sc.mean_dependency_distance([q], lang='ru'))"
   ]
  },
  {
   "cell_type": "code",
   "execution_count": 21,
   "metadata": {},
   "outputs": [],
   "source": [
    "sc_human_df = pd.DataFrame.from_dict({\n",
    "    'mean_dependency_distance': hum_mdd\n",
    "})\n",
    "\n",
    "sc_chatbot_df = pd.DataFrame.from_dict({\n",
    "    'mean_dependency_distance': bot_mdd\n",
    "})"
   ]
  },
  {
   "cell_type": "code",
   "execution_count": 22,
   "metadata": {},
   "outputs": [],
   "source": [
    "sc_human_df.to_csv(\"../data/sc_human.csv\", sep=',', index=False)\n",
    "sc_chatbot_df.to_csv(\"../data/sc_bot.csv\", sep=',', index=False)"
   ]
  },
  {
   "cell_type": "markdown",
   "metadata": {},
   "source": [
    "## Lexical Diversity"
   ]
  },
  {
   "cell_type": "code",
   "execution_count": 23,
   "metadata": {},
   "outputs": [],
   "source": [
    "hum_lexical_density = list()\n",
    "hum_log_type_token_ratio = list()\n",
    "hum_root_type_token_ratio = list()\n",
    "hum_type_token_ratio = list()\n",
    "hum_summer_index = list()\n",
    "\n",
    "bot_lexical_density = list()\n",
    "bot_log_type_token_ratio = list()\n",
    "bot_root_type_token_ratio = list()\n",
    "bot_type_token_ratio = list()\n",
    "bot_summer_index = list()"
   ]
  },
  {
   "cell_type": "code",
   "execution_count": 25,
   "metadata": {},
   "outputs": [
    {
     "data": {
      "application/vnd.jupyter.widget-view+json": {
       "model_id": "3494848b09304e21960c2bd524349f58",
       "version_major": 2,
       "version_minor": 0
      },
      "text/plain": [
       "  0%|          | 0/330 [00:00<?, ?it/s]"
      ]
     },
     "metadata": {},
     "output_type": "display_data"
    },
    {
     "data": {
      "application/vnd.jupyter.widget-view+json": {
       "model_id": "3c3fd6f97a8e4314a9421877f10175f8",
       "version_major": 2,
       "version_minor": 0
      },
      "text/plain": [
       "  0%|          | 0/358 [00:00<?, ?it/s]"
      ]
     },
     "metadata": {},
     "output_type": "display_data"
    }
   ],
   "source": [
    "for q in tqdm(human.question.values.tolist()):\n",
    "    hum_lexical_density.append(ld.lexical_density([q], lang='ru'))\n",
    "    hum_log_type_token_ratio.append(ld.log_type_token_ratio([q]))\n",
    "    hum_root_type_token_ratio.append(ld.root_type_token_ratio([q], lang='ru'))\n",
    "    hum_type_token_ratio.append(ld.type_token_ratio([q], lang='ru'))\n",
    "    hum_summer_index.append(ld.summer_index([q], lang='ru'))\n",
    "    \n",
    "for q in tqdm(chatbot.question.values.tolist()):\n",
    "    bot_lexical_density.append(ld.lexical_density([q], lang='ru'))\n",
    "    bot_log_type_token_ratio.append(ld.log_type_token_ratio([q]))\n",
    "    bot_root_type_token_ratio.append(ld.root_type_token_ratio([q], lang='ru'))\n",
    "    bot_type_token_ratio.append(ld.type_token_ratio([q], lang='ru'))\n",
    "    bot_summer_index.append(ld.summer_index([q], lang='ru'))"
   ]
  },
  {
   "cell_type": "code",
   "execution_count": 26,
   "metadata": {},
   "outputs": [],
   "source": [
    "ld_human_df = pd.DataFrame.from_dict({\n",
    "    'lexical_density': hum_lexical_density,\n",
    "    'log_type_token_ratio': hum_log_type_token_ratio,\n",
    "    'root_type_token_ratio': hum_root_type_token_ratio,\n",
    "    'type_token_ratio': hum_type_token_ratio,\n",
    "    'summer_index': hum_summer_index\n",
    "})\n",
    "\n",
    "ld_chatbot_df = pd.DataFrame.from_dict({\n",
    "    'lexical_density': bot_lexical_density,\n",
    "    'log_type_token_ratio': bot_log_type_token_ratio,\n",
    "    'root_type_token_ratio': bot_root_type_token_ratio,\n",
    "    'type_token_ratio': bot_type_token_ratio,\n",
    "    'summer_index': bot_summer_index\n",
    "})"
   ]
  },
  {
   "cell_type": "code",
   "execution_count": 27,
   "metadata": {},
   "outputs": [],
   "source": [
    "ld_human_df.to_csv(\"../data/ld_human.csv\", sep=',', index=False)\n",
    "ld_chatbot_df.to_csv(\"../data/ld_bot.csv\", sep=',', index=False)"
   ]
  },
  {
   "cell_type": "markdown",
   "metadata": {},
   "source": [
    "## Readability"
   ]
  },
  {
   "cell_type": "code",
   "execution_count": 28,
   "metadata": {},
   "outputs": [],
   "source": [
    "hum_automated_readability_index = list()\n",
    "hum_automated_readability_index_simple = list()\n",
    "hum_coleman_readability = list()\n",
    "hum_easy_listening = list()\n",
    "hum_flesch_kincaid_grade = list()\n",
    "hum_flesch_reading_ease = list()\n",
    "\n",
    "bot_automated_readability_index = list()\n",
    "bot_automated_readability_index_simple = list()\n",
    "bot_coleman_readability = list()\n",
    "bot_easy_listening = list()\n",
    "bot_flesch_kincaid_grade = list()\n",
    "bot_flesch_reading_ease = list()"
   ]
  },
  {
   "cell_type": "code",
   "execution_count": 29,
   "metadata": {},
   "outputs": [
    {
     "data": {
      "application/vnd.jupyter.widget-view+json": {
       "model_id": "55fc3b932f8143159a9dfb9bfbfcc218",
       "version_major": 2,
       "version_minor": 0
      },
      "text/plain": [
       "  0%|          | 0/330 [00:00<?, ?it/s]"
      ]
     },
     "metadata": {},
     "output_type": "display_data"
    },
    {
     "data": {
      "application/vnd.jupyter.widget-view+json": {
       "model_id": "dc110c4c9a9a495286fee5b73dea9fb1",
       "version_major": 2,
       "version_minor": 0
      },
      "text/plain": [
       "  0%|          | 0/358 [00:00<?, ?it/s]"
      ]
     },
     "metadata": {},
     "output_type": "display_data"
    }
   ],
   "source": [
    "for q in tqdm(human.question.values.tolist()):\n",
    "    hum_automated_readability_index.append(r.automated_readability_index([q], lang='ru'))\n",
    "    hum_automated_readability_index_simple.append(r.automated_readability_index_simple([q]))\n",
    "    hum_coleman_readability.append(r.coleman_readability([q], lang='ru'))\n",
    "    hum_easy_listening.append(r.easy_listening([q], lang='ru'))\n",
    "    hum_flesch_kincaid_grade.append(r.flesch_kincaid_grade([q], lang='ru'))\n",
    "    hum_flesch_reading_ease.append(r.flesch_reading_ease([q], lang='ru'))\n",
    "    \n",
    "for q in tqdm(chatbot.question.values.tolist()):\n",
    "    bot_automated_readability_index.append(r.automated_readability_index([q], lang='ru'))\n",
    "    bot_automated_readability_index_simple.append(r.automated_readability_index_simple([q]))\n",
    "    bot_coleman_readability.append(r.coleman_readability([q], lang='ru'))\n",
    "    bot_easy_listening.append(r.easy_listening([q], lang='ru'))\n",
    "    bot_flesch_kincaid_grade.append(r.flesch_kincaid_grade([q], lang='ru'))\n",
    "    bot_flesch_reading_ease.append(r.flesch_reading_ease([q], lang='ru'))"
   ]
  },
  {
   "cell_type": "code",
   "execution_count": 30,
   "metadata": {},
   "outputs": [],
   "source": [
    "r_human_df = pd.DataFrame.from_dict({\n",
    "    'automated_readability_index': hum_automated_readability_index,\n",
    "    'automated_readability_index_simple': hum_automated_readability_index_simple,\n",
    "    'coleman_readability': hum_coleman_readability,\n",
    "    'easy_listening': hum_easy_listening,\n",
    "    'flesch_kincaid_grade': hum_flesch_kincaid_grade,\n",
    "    'flesch_reading_ease': hum_flesch_reading_ease\n",
    "})\n",
    "\n",
    "r_chatbot_df = pd.DataFrame.from_dict({\n",
    "    'automated_readability_index': bot_automated_readability_index,\n",
    "    'automated_readability_index_simple': bot_automated_readability_index_simple,\n",
    "    'coleman_readability': bot_coleman_readability,\n",
    "    'easy_listening': bot_easy_listening,\n",
    "    'flesch_kincaid_grade': bot_flesch_kincaid_grade,\n",
    "    'flesch_reading_ease': bot_flesch_reading_ease\n",
    "})"
   ]
  },
  {
   "cell_type": "code",
   "execution_count": 31,
   "metadata": {},
   "outputs": [],
   "source": [
    "r_human_df.to_csv(\"../data/r_human.csv\", sep=',', index=False)\n",
    "r_chatbot_df.to_csv(\"../data/r_bot.csv\", sep=',', index=False)"
   ]
  },
  {
   "cell_type": "code",
   "execution_count": null,
   "metadata": {},
   "outputs": [],
   "source": []
  }
 ],
 "metadata": {
  "kernelspec": {
   "display_name": "Python 3",
   "language": "python",
   "name": "python3"
  },
  "language_info": {
   "codemirror_mode": {
    "name": "ipython",
    "version": 3
   },
   "file_extension": ".py",
   "mimetype": "text/x-python",
   "name": "python",
   "nbconvert_exporter": "python",
   "pygments_lexer": "ipython3",
   "version": "3.6.4"
  }
 },
 "nbformat": 4,
 "nbformat_minor": 2
}
